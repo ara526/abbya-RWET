{
 "cells": [
  {
   "cell_type": "markdown",
   "metadata": {},
   "source": [
    "## Perfect Song Maker"
   ]
  },
  {
   "cell_type": "code",
   "execution_count": 95,
   "metadata": {},
   "outputs": [],
   "source": [
    "import pronouncing as pr"
   ]
  },
  {
   "cell_type": "code",
   "execution_count": 96,
   "metadata": {},
   "outputs": [],
   "source": [
    "from collections import defaultdict"
   ]
  },
  {
   "cell_type": "code",
   "execution_count": 97,
   "metadata": {},
   "outputs": [],
   "source": [
    "import random"
   ]
  },
  {
   "cell_type": "code",
   "execution_count": 98,
   "metadata": {},
   "outputs": [],
   "source": [
    "rhyme_lookup = defaultdict(list)\n",
    "for line in open(\"songs.txt\"):\n",
    "    words = line.split()\n",
    "    if len(words) == 0:\n",
    "        continue\n",
    "    last_word = words [-1]\n",
    "    last_word = last_word.strip(\"\\n.,?!:;\")\n",
    "    phones = pr.phones_for_word(last_word)\n",
    "    if len(phones) > 0:\n",
    "        rhyming_part = pr.rhyming_part(phones[0])\n",
    "        rhyme_lookup[rhyming_part].append(line)"
   ]
  },
  {
   "cell_type": "code",
   "execution_count": 100,
   "metadata": {},
   "outputs": [
    {
     "data": {
      "text/plain": [
       "['And I will always love you, I will always love you\\n',\n",
       " \"I'm in love with the shape of you, push and pull like a magnet do\\n\"]"
      ]
     },
     "execution_count": 100,
     "metadata": {},
     "output_type": "execute_result"
    }
   ],
   "source": [
    "ending = random.choice (list(rhyme_lookup.keys()))\n",
    "random.sample(rhyme_lookup[ending], 2)"
   ]
  },
  {
   "cell_type": "code",
   "execution_count": 103,
   "metadata": {},
   "outputs": [
    {
     "name": "stdout",
     "output_type": "stream",
     "text": [
      "['And I will always love you, I will always love you\\n', 'Look at the stars, look how they shine for you, and everything you do.\\n']\n"
     ]
    }
   ],
   "source": [
    "print (random.sample(rhyme_lookup[ending], 2))"
   ]
  },
  {
   "cell_type": "code",
   "execution_count": 106,
   "metadata": {},
   "outputs": [
    {
     "name": "stdout",
     "output_type": "stream",
     "text": [
      "the perfect song\n",
      "\n",
      "['We will, we will rock you\\n', 'Every night in my dreams, I see you, I feel you\\n']\n",
      "\n",
      "['We will, we will rock you\\n', 'Doses and mimosas, champagne and cocaine, how you get me through\\n']\n",
      "['Every night in my dreams, I see you, I feel you\\n', 'And I will always love you, I will always love you\\n']\n",
      "\n",
      "['Look at the stars, look how they shine for you, and everything you do.\\n', 'Doses and mimosas, champagne and cocaine, how you get me through\\n']\n",
      "['And I will always love you, I will always love you\\n', 'Every night in my dreams, I see you, I feel you\\n']\n",
      "\n",
      "[\"I'm in love with the shape of you, push and pull like a magnet do\\n\", \"But everything means nothing, if I ain't got you\\n\"]\n",
      "['They say \"all good boys go to heaven\", but bad boys bring Heaven to you\\n', 'When I taste tequila, baby I still see you\\n']\n",
      "\n",
      "['Every night in my dreams, I see you, I feel you\\n', 'And I will always love you, I will always love you\\n']\n",
      "['We will, we will rock you\\n', \"Every breath you take, every move you make, every bond you break, every step you take, I'll be watching you\\n\"]\n",
      "\n",
      "[\"Every breath you take, every move you make, every bond you break, every step you take, I'll be watching you\\n\", 'Every night in my dreams, I see you, I feel you\\n']\n",
      "[\"But everything means nothing, if I ain't got you\\n\", 'When I taste tequila, baby I still see you\\n']\n",
      "\n",
      "[\"Every breath you take, every move you make, every bond you break, every step you take, I'll be watching you\\n\", \"But everything means nothing, if I ain't got you\\n\"]\n",
      "['Look at the stars, look how they shine for you, and everything you do.\\n', 'And I will always love you, I will always love you\\n']\n",
      "\n",
      "['They say \"all good boys go to heaven\", but bad boys bring Heaven to you\\n', \"I heard thre was a secret chord that David played and it pleased the lord, but you don't really care for music do you\\n\"]\n"
     ]
    }
   ],
   "source": [
    "print(\"the perfect song\")\n",
    "print()\n",
    "stanza_count = 7\n",
    "for i in range (stanza_count):\n",
    "    print(random.sample(rhyme_lookup[ending], 2))\n",
    "    print()\n",
    "    print(random.sample(rhyme_lookup[ending], 2))"
   ]
  },
  {
   "cell_type": "code",
   "execution_count": null,
   "metadata": {},
   "outputs": [],
   "source": []
  }
 ],
 "metadata": {
  "kernelspec": {
   "display_name": "Python 3",
   "language": "python",
   "name": "python3"
  },
  "language_info": {
   "codemirror_mode": {
    "name": "ipython",
    "version": 3
   },
   "file_extension": ".py",
   "mimetype": "text/x-python",
   "name": "python",
   "nbconvert_exporter": "python",
   "pygments_lexer": "ipython3",
   "version": "3.7.1"
  }
 },
 "nbformat": 4,
 "nbformat_minor": 2
}
