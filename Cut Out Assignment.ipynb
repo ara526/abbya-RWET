{
 "cells": [
  {
   "cell_type": "code",
   "execution_count": 1,
   "metadata": {},
   "outputs": [],
   "source": [
    "words = open(\"austen.txt\").read()"
   ]
  },
  {
   "cell_type": "code",
   "execution_count": 2,
   "metadata": {},
   "outputs": [],
   "source": [
    "lines = [item.strip() for item in open(\"austen.txt\") if item.startswith(\"Mr. Elton\")]"
   ]
  },
  {
   "cell_type": "code",
   "execution_count": 3,
   "metadata": {},
   "outputs": [],
   "source": [
    "import random"
   ]
  },
  {
   "cell_type": "code",
   "execution_count": 4,
   "metadata": {},
   "outputs": [
    {
     "name": "stdout",
     "output_type": "stream",
     "text": [
      "Mr. Man was the very person fixed on by Emma for driving the young\n"
     ]
    }
   ],
   "source": [
    "thingy = [item.replace(\"Mr. Elton\", \"Mr. Man\") for item in lines if \"Mr. Elton\" in item]\n",
    "print (random.choice(thingy))"
   ]
  },
  {
   "cell_type": "code",
   "execution_count": 5,
   "metadata": {},
   "outputs": [],
   "source": [
    "god = open(\"genesis.txt\").read()"
   ]
  },
  {
   "cell_type": "code",
   "execution_count": 6,
   "metadata": {},
   "outputs": [],
   "source": [
    "goddess = [item.strip() for item in open(\"genesis.txt\") if item.startswith(\"And God said\")]"
   ]
  },
  {
   "cell_type": "code",
   "execution_count": 7,
   "metadata": {},
   "outputs": [],
   "source": [
    "nouns = open(\"nouns.txt\").read()"
   ]
  },
  {
   "cell_type": "code",
   "execution_count": 8,
   "metadata": {},
   "outputs": [],
   "source": [
    "titlepart = nouns.split(\"\\n\")"
   ]
  },
  {
   "cell_type": "code",
   "execution_count": 9,
   "metadata": {},
   "outputs": [],
   "source": [
    "ads = open(\"adjs.txt\").read()"
   ]
  },
  {
   "cell_type": "code",
   "execution_count": 10,
   "metadata": {},
   "outputs": [],
   "source": [
    "titleother = ads.split(\"\\n\")"
   ]
  },
  {
   "cell_type": "code",
   "execution_count": 15,
   "metadata": {},
   "outputs": [
    {
     "name": "stdout",
     "output_type": "stream",
     "text": [
      "Approachable  Enclosure\n",
      "\n",
      "Mr. Man's absenting himself....\n",
      "And God said, Let the waters under the heaven be gathered together unto one place, and let the dry land appear: and it was so.\n",
      "\n",
      "Mr. Man made his appearance.  His lady greeted him with some of her...\n",
      "And God said, Let there be lights in the firmament of the heaven to divide the day from the night; and let them be for signs, and for seasons, and for days, and years:\n",
      "\n",
      "Mr. Man certainly did not very well know what to say.  He looked...\n",
      "And God said, Let the waters bring forth abundantly the moving creature that hath life, and fowl that may fly above the earth in the open firmament of heaven.\n",
      "\n"
     ]
    }
   ],
   "source": [
    "print(random.choice(titleother).title() + \"  \" + random.choice(titlepart).title())\n",
    "print()\n",
    "for i in range(3):\n",
    "    print(random.choice(thingy)+\"...\")\n",
    "    print(random.choice(goddess))\n",
    "    print()"
   ]
  },
  {
   "cell_type": "code",
   "execution_count": null,
   "metadata": {},
   "outputs": [],
   "source": []
  }
 ],
 "metadata": {
  "kernelspec": {
   "display_name": "Python 3",
   "language": "python",
   "name": "python3"
  },
  "language_info": {
   "codemirror_mode": {
    "name": "ipython",
    "version": 3
   },
   "file_extension": ".py",
   "mimetype": "text/x-python",
   "name": "python",
   "nbconvert_exporter": "python",
   "pygments_lexer": "ipython3",
   "version": "3.7.1"
  }
 },
 "nbformat": 4,
 "nbformat_minor": 2
}
