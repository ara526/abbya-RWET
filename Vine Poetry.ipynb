{
 "cells": [
  {
   "cell_type": "markdown",
   "metadata": {},
   "source": [
    "## Six lines, each must use iconic vine references (based on the source text book *Milk and Vine*)\n",
    "\n",
    "#Exclamation#!\n",
    "\n",
    "You know #iconic vine phrase#,\n",
    "\n",
    "and I want more #iconic vine object#,\n",
    "\n",
    "but #iconic vine name# told me that twitter had to delete vine.\n",
    "\n",
    "#iconic vine phrase#.\n",
    "\n",
    "Forever in our hearts you will be #iconic vine object#.\n"
   ]
  },
  {
   "cell_type": "code",
   "execution_count": 1,
   "metadata": {},
   "outputs": [
    {
     "name": "stdout",
     "output_type": "stream",
     "text": [
      "Requirement already satisfied: tracery in /anaconda3/lib/python3.7/site-packages (0.1.1)\r\n"
     ]
    }
   ],
   "source": [
    "!pip install tracery"
   ]
  },
  {
   "cell_type": "code",
   "execution_count": 6,
   "metadata": {},
   "outputs": [],
   "source": [
    "import tracery\n",
    "from tracery.modifiers import base_english"
   ]
  },
  {
   "cell_type": "code",
   "execution_count": 32,
   "metadata": {},
   "outputs": [
    {
     "name": "stdout",
     "output_type": "stream",
     "text": [
      "What are those!\n",
      "You know, a potato flew around my room before you came,\n",
      "And I want more of that adderall, a glass of whiskey, and diesel jeans,\n",
      "But Shalissa told me that vine was deleted.\n",
      "I thought you were bae.\n",
      "Forever in our hearts you will be, our dearest hurricane tortilla.\n"
     ]
    }
   ],
   "source": [
    "vine = {\n",
    "    \"line1\": \"#exclamation.capitalize#!\",\n",
    "    \"line2\": \"You know, #iconicphrase#,\",\n",
    "    \"line3\": \"And I want more of that #iconicobj#,\",\n",
    "    \"line4\": \"But #iconicname# told me that vine was deleted.\",\n",
    "    \"line5\": \"#iconicphrase.capitalize#.\",\n",
    "    \"line6\": \"Forever in our hearts you will be, our dearest #iconicobj#.\",\n",
    "    \"exclamation\": [\"I coulda dropped my croissant\", \n",
    "                    \"merry chrysler\", \n",
    "                    \"this bitch empty, yeet\", \n",
    "                    \"mother trucker dude\",\n",
    "                   \"it is wednesday my dudes\",\n",
    "                   \"whoever threw that paper\",\n",
    "                   \"what are those\",\n",
    "                   \"look at all those chickens\",\n",
    "                   \"I can't believe you've done this\",\n",
    "                   \"Hi, Welcome to Chili's\",\n",
    "                   \"step the fuck up kyle\",\n",
    "                   \"I wanna be a cowboy\",\n",
    "                   \"suh dude\",\n",
    "                   \"gra-ta-ta\",\n",
    "                   \"get out me car\",\n",
    "                   \"give me my hat back Jordan\",\n",
    "                   \"I got it yes bitches\",\n",
    "                   \"he need some milk\",\n",
    "                   \"that was legitness\"],\n",
    "    \"iconicphrase\": [\"I thought you were bae\", \n",
    "                     \"ugly ass fuckin noodle head\",\n",
    "                    \"I love you bitch, I ain't never gonna stop loving you bitch\",\n",
    "                    \"chillin in the hot tub, five feet apart because they're not gay\",\n",
    "                    \"I'm 19 and I never fuckin learned how to read\",\n",
    "                    \"y'all not gonna get no sleep cause of me\",\n",
    "                    \"I thought you were amewican\",\n",
    "                    \"you're thicker than a bowl of oatmeal\",\n",
    "                    \"gra-ta-ta\",\n",
    "                    \"I'm in me mum's car\",\n",
    "                    \"a potato flew around my room before you came\",\n",
    "                    \"when will you learn that your actions have consequences\",\n",
    "                    \"do you want to go see uncle kracker or no\",\n",
    "                    \"I have a basketball game tomorrow\",\n",
    "                    \"she said under all the make up\",\n",
    "                    \"finna get crunk\",\n",
    "                    \"it's frickin bats\",\n",
    "                    \"parents excuse my potty mouth\",\n",
    "                    \"I'm washing me and my clothes\",\n",
    "                    \"I zink your zister may be having my zecond zon\",\n",
    "                    \"when your bae is fam\"],\n",
    "    \"iconicobj\":[\"hurricane tortilla\", \n",
    "                 \"iridocyclitis\", \n",
    "                 \"freesha- freeshavacado\", \n",
    "                 \"buttcheek on a stick\",\n",
    "                \"pepsi-bottle, coca cola glass\",\n",
    "                \"lipstick in my valentino white bag\",\n",
    "                \"adderall, a glass of whiskey, and diesel jeans\",\n",
    "                \"foo-foo lame shit\",\n",
    "                \"me mum's car\",\n",
    "                \"chocolate and vanilla swirl with cookie crunch please\",\n",
    "                \"eyebrows on fleek\",\n",
    "                \"legitness\",\n",
    "                \"birthday gift on my birthday to my birthday party on my birthday with a birthday gift\"],\n",
    "    \"iconicname\": [\"Shalissa\",\"two bros chillin in a hot tub\", \"Jared\", \"kyle\", \"miss keisha\",\"country boy\", \"my name jeff\", \"frickin fricks\", \"trey\", \"bruh\"]\n",
    "}\n",
    "\n",
    "grammar = tracery.Grammar(vine)\n",
    "grammar.add_modifiers(base_english)\n",
    "print(grammar.flatten(\"#line1#\"))\n",
    "print(grammar.flatten(\"#line2#\"))\n",
    "print(grammar.flatten(\"#line3#\"))\n",
    "print(grammar.flatten(\"#line4#\"))\n",
    "print(grammar.flatten(\"#line5#\"))\n",
    "print(grammar.flatten(\"#line6#\"))"
   ]
  },
  {
   "cell_type": "code",
   "execution_count": null,
   "metadata": {},
   "outputs": [],
   "source": []
  }
 ],
 "metadata": {
  "kernelspec": {
   "display_name": "Python 3",
   "language": "python",
   "name": "python3"
  },
  "language_info": {
   "codemirror_mode": {
    "name": "ipython",
    "version": 3
   },
   "file_extension": ".py",
   "mimetype": "text/x-python",
   "name": "python",
   "nbconvert_exporter": "python",
   "pygments_lexer": "ipython3",
   "version": "3.7.1"
  }
 },
 "nbformat": 4,
 "nbformat_minor": 2
}
