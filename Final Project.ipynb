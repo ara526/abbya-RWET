{
 "cells": [
  {
   "cell_type": "code",
   "execution_count": 74,
   "metadata": {},
   "outputs": [],
   "source": [
    "lines = open(\"breakup.txt\").read()"
   ]
  },
  {
   "cell_type": "code",
   "execution_count": 75,
   "metadata": {},
   "outputs": [],
   "source": [
    "import markovify"
   ]
  },
  {
   "cell_type": "code",
   "execution_count": 76,
   "metadata": {},
   "outputs": [],
   "source": [
    "generator = markovify.Text(lines)"
   ]
  },
  {
   "cell_type": "code",
   "execution_count": 77,
   "metadata": {},
   "outputs": [],
   "source": [
    "x = generator.make_sentence()"
   ]
  },
  {
   "cell_type": "code",
   "execution_count": 78,
   "metadata": {},
   "outputs": [],
   "source": [
    "generator2 = markovify.Text(lines, state_size = 4)"
   ]
  },
  {
   "cell_type": "code",
   "execution_count": 79,
   "metadata": {},
   "outputs": [
    {
     "data": {
      "text/plain": [
       "\"I need to find myself and I just can't pursue that with you.\""
      ]
     },
     "execution_count": 79,
     "metadata": {},
     "output_type": "execute_result"
    }
   ],
   "source": [
    "generator2.make_sentence(tries = 1000)"
   ]
  },
  {
   "cell_type": "code",
   "execution_count": 80,
   "metadata": {},
   "outputs": [],
   "source": [
    "sentences = [generator.make_sentence(tries = 1000) for i in range(10)]"
   ]
  },
  {
   "cell_type": "code",
   "execution_count": 106,
   "metadata": {},
   "outputs": [],
   "source": [
    "new_para = \" \".join(sentences)"
   ]
  },
  {
   "cell_type": "code",
   "execution_count": 107,
   "metadata": {},
   "outputs": [
    {
     "name": "stdout",
     "output_type": "stream",
     "text": [
      "I’m so sorry, I’m just not for me. I need to find myself and I don't want to hold you back. Maybe we have chemistry. I’m afraid that I may be making the biggest mistake of my life, but I just don’t feel that way about you, and I’m just really not over my ex. You’re great, it was great, but I just don’t want to be in any relationship. I don't feel we want the same principles and values. This isn't easy and neither are you...I'm breaking up beacause I never loved you. I think you love me more than I do not feel that way about you, and I’m just not going to. I love you and I don't feel we want the same principles and values. I’m so sorry, I’m just not for me.\n"
     ]
    }
   ],
   "source": [
    "print(new_para)"
   ]
  },
  {
   "cell_type": "code",
   "execution_count": 108,
   "metadata": {},
   "outputs": [],
   "source": [
    "template = \"\"\"\n",
    "____$$$$$$$$$____ \n",
    "____$$$$$$$$$____ \n",
    "______$$$$$______ \n",
    "______$$$$$______ \n",
    "______$$$$$______ \n",
    "______$$$$$______ \n",
    "____$$$$$$$$$____ \n",
    "____$$$$$$$$$____ \n",
    "_________________ \n",
    "_$$$$$$___$$$$$$_ \n",
    "$$$$$$$$_$$$$$$$$ \n",
    "$$$$$$$$$$$$$$$$$ \n",
    "_$$$$$$$$$$$$$$$_ \n",
    "___$$$$$$$$$$$___ \n",
    "_____$$$$$$$_____ \n",
    "_______$$$_______ \n",
    "________$________ \n",
    "_________________ \n",
    "__$$$$$___$$$$$__ \n",
    "__$$$$$$_$$$$$$__ \n",
    "___$$$$$$$$$$$___ \n",
    "_____$$$$$$$_____ \n",
    "______$$$$$______ \n",
    "______$$$$$______ \n",
    "______$$$$$______ \n",
    "_________________ \n",
    "_____$$$$$$$_____ \n",
    "___$$$$$$$$$$$___ \n",
    "__$$$$$___$$$$$__ \n",
    "__$$$$$___$$$$$__ \n",
    "__$$$$$___$$$$$__ \n",
    "___$$$$$$$$$$$___ \n",
    "_____$$$$$$$_____ \n",
    "_________________ \n",
    "__$$$$$___$$$$$__ \n",
    "__$$$$$___$$$$$__ \n",
    "__$$$$$___$$$$$__ \n",
    "__$$$$$___$$$$$__ \n",
    "__$$$$$$_$$$$$$__ \n",
    "___$$$$$$$$$$$___ \n",
    "____$$$$$$$$$____\n",
    "\n",
    "\"\"\"\n"
   ]
  },
  {
   "cell_type": "code",
   "execution_count": 109,
   "metadata": {},
   "outputs": [],
   "source": [
    "current_index = 0\n",
    "output = \"\"\n",
    "for ch in template:\n",
    "    if ch == '$':\n",
    "        output += \"♡\"\n",
    "    elif ch == '_':\n",
    "        output += new_para[current_index]\n",
    "        current_index += 1\n",
    "    else:\n",
    "        output += ch"
   ]
  },
  {
   "cell_type": "code",
   "execution_count": 110,
   "metadata": {},
   "outputs": [
    {
     "name": "stdout",
     "output_type": "stream",
     "text": [
      "\n",
      "I’m ♡♡♡♡♡♡♡♡♡so s \n",
      "orry♡♡♡♡♡♡♡♡♡, I’ \n",
      "m just♡♡♡♡♡ not f \n",
      "or me.♡♡♡♡♡ I nee \n",
      "d to f♡♡♡♡♡ind my \n",
      "self a♡♡♡♡♡nd I d \n",
      "on't♡♡♡♡♡♡♡♡♡ wan \n",
      "t to♡♡♡♡♡♡♡♡♡ hol \n",
      "d you back. Maybe \n",
      " ♡♡♡♡♡♡we ♡♡♡♡♡♡h \n",
      "♡♡♡♡♡♡♡♡a♡♡♡♡♡♡♡♡ \n",
      "♡♡♡♡♡♡♡♡♡♡♡♡♡♡♡♡♡ \n",
      "v♡♡♡♡♡♡♡♡♡♡♡♡♡♡♡e \n",
      " ch♡♡♡♡♡♡♡♡♡♡♡emi \n",
      "stry.♡♡♡♡♡♡♡ I’m  \n",
      "afraid ♡♡♡that I  \n",
      "may be m♡aking th \n",
      "e biggest mistake \n",
      " o♡♡♡♡♡f m♡♡♡♡♡y  \n",
      "li♡♡♡♡♡♡f♡♡♡♡♡♡e, \n",
      " bu♡♡♡♡♡♡♡♡♡♡♡t I \n",
      " just♡♡♡♡♡♡♡ don’ \n",
      "t feel♡♡♡♡♡ that  \n",
      "way ab♡♡♡♡♡out yo \n",
      "u, and♡♡♡♡♡ I’m j \n",
      "ust really not ov \n",
      "er my♡♡♡♡♡♡♡ ex.  \n",
      "You♡♡♡♡♡♡♡♡♡♡♡’re \n",
      " g♡♡♡♡♡rea♡♡♡♡♡t, \n",
      " i♡♡♡♡♡t w♡♡♡♡♡as \n",
      " g♡♡♡♡♡rea♡♡♡♡♡t, \n",
      " bu♡♡♡♡♡♡♡♡♡♡♡t I \n",
      " just♡♡♡♡♡♡♡ don’ \n",
      "t want to be in a \n",
      "ny♡♡♡♡♡ re♡♡♡♡♡la \n",
      "ti♡♡♡♡♡ons♡♡♡♡♡hi \n",
      "p.♡♡♡♡♡ I ♡♡♡♡♡do \n",
      "n'♡♡♡♡♡t f♡♡♡♡♡ee \n",
      "l ♡♡♡♡♡♡w♡♡♡♡♡♡e  \n",
      "wan♡♡♡♡♡♡♡♡♡♡♡t t \n",
      "he s♡♡♡♡♡♡♡♡♡ame \n",
      "\n",
      "\n"
     ]
    }
   ],
   "source": [
    "print(output)"
   ]
  },
  {
   "cell_type": "code",
   "execution_count": 111,
   "metadata": {},
   "outputs": [],
   "source": [
    "templatee = \"\"\"\n",
    "_____$$$$_________$$$$\n",
    "___$$$$$$$$_____$$$$$$$$\n",
    "_$$$$$$$$$$$$_$$$$$$$$$$$$\n",
    "$$$$$$$$$$$$$$$$$$$$$$$$$$$\n",
    "$$$$$$$$$$$$$$$$$$$$$$$$$$$\n",
    "_$$$$$$$$$$$$$$$$$$$$$$$$$\n",
    "__$$$$$$$$$$$$$$$$$$$$$$$\n",
    "____$$$$$$$$$$$$$$$$$$$\n",
    "_______$$$$$$$$$$$$$\n",
    "__________$$$$$$$\n",
    "____________$$$\n",
    "_____________$\n",
    "\n",
    "\"\"\""
   ]
  },
  {
   "cell_type": "code",
   "execution_count": 112,
   "metadata": {},
   "outputs": [],
   "source": [
    "current_index = 0\n",
    "output = \"\"\n",
    "for ch in templatee:\n",
    "    if ch == '$':\n",
    "        output += \"♡\"\n",
    "    elif ch == '_':\n",
    "        output += new_para[current_index]\n",
    "        current_index += 1\n",
    "    else:\n",
    "        output += ch"
   ]
  },
  {
   "cell_type": "code",
   "execution_count": 113,
   "metadata": {},
   "outputs": [
    {
     "name": "stdout",
     "output_type": "stream",
     "text": [
      "\n",
      "I’m s♡♡♡♡o sorry, ♡♡♡♡\n",
      "I’m♡♡♡♡♡♡♡♡ just♡♡♡♡♡♡♡♡\n",
      " ♡♡♡♡♡♡♡♡♡♡♡♡n♡♡♡♡♡♡♡♡♡♡♡♡\n",
      "♡♡♡♡♡♡♡♡♡♡♡♡♡♡♡♡♡♡♡♡♡♡♡♡♡♡♡\n",
      "♡♡♡♡♡♡♡♡♡♡♡♡♡♡♡♡♡♡♡♡♡♡♡♡♡♡♡\n",
      "o♡♡♡♡♡♡♡♡♡♡♡♡♡♡♡♡♡♡♡♡♡♡♡♡♡\n",
      "t ♡♡♡♡♡♡♡♡♡♡♡♡♡♡♡♡♡♡♡♡♡♡♡\n",
      "for ♡♡♡♡♡♡♡♡♡♡♡♡♡♡♡♡♡♡♡\n",
      "me. I n♡♡♡♡♡♡♡♡♡♡♡♡♡\n",
      "eed to fin♡♡♡♡♡♡♡\n",
      "d myself and♡♡♡\n",
      " I don't want♡\n",
      "\n",
      "\n"
     ]
    }
   ],
   "source": [
    "print(output)"
   ]
  },
  {
   "cell_type": "code",
   "execution_count": 114,
   "metadata": {},
   "outputs": [],
   "source": [
    "templateee = \"\"\"\n",
    "____$$$$$______$$$$ \n",
    "__$$$$$$$$$__$$$$$$$$ \n",
    "_$$$$$$$$$$$$$$$$$$$$$$ \n",
    "$$$$$$$$$$$$$$$$$$$$$$$$ \n",
    "$$$$$$$$$$$$$$$$$$$$$$$$ \n",
    "$$$$$$$$$$$$$$$$$$$$$$$$ \n",
    "_$$$$$$$$$$$$$$$$$$$$$$ \n",
    "__$$$$$$$$$$$$$$$$$$$$ \n",
    "____$$$$$$$$$$$$$$$$ \n",
    "______$$$$$$$$$$$$$ \n",
    "________$$$$$$$$$$ \n",
    "__________$$$$$$ \n",
    "___________$$$$ \n",
    "____________$ \n",
    "___________$$$ \n",
    "__________$$$$$ \n",
    "_________$$$$$$$ \n",
    "_________$$$$$$$ \n",
    "__________$$$$$ \n",
    "_________________$ \n",
    "________________$$$ \n",
    "_______________$$$$$ \n",
    "______________$$$$$$$ \n",
    "______________$$$$$$$ \n",
    "_______________$$$$$\n",
    "\n",
    "\"\"\""
   ]
  },
  {
   "cell_type": "code",
   "execution_count": 115,
   "metadata": {},
   "outputs": [],
   "source": [
    "current_index = 0\n",
    "output = \"\"\n",
    "for ch in templateee:\n",
    "    if ch == '$':\n",
    "        output += \"♡\"\n",
    "    elif ch == '_':\n",
    "        output += new_para[current_index]\n",
    "        current_index += 1\n",
    "    else:\n",
    "        output += ch"
   ]
  },
  {
   "cell_type": "code",
   "execution_count": 116,
   "metadata": {},
   "outputs": [
    {
     "name": "stdout",
     "output_type": "stream",
     "text": [
      "\n",
      "I’m ♡♡♡♡♡so sor♡♡♡♡ \n",
      "ry♡♡♡♡♡♡♡♡♡, ♡♡♡♡♡♡♡♡ \n",
      "I♡♡♡♡♡♡♡♡♡♡♡♡♡♡♡♡♡♡♡♡♡♡ \n",
      "♡♡♡♡♡♡♡♡♡♡♡♡♡♡♡♡♡♡♡♡♡♡♡♡ \n",
      "♡♡♡♡♡♡♡♡♡♡♡♡♡♡♡♡♡♡♡♡♡♡♡♡ \n",
      "♡♡♡♡♡♡♡♡♡♡♡♡♡♡♡♡♡♡♡♡♡♡♡♡ \n",
      "’♡♡♡♡♡♡♡♡♡♡♡♡♡♡♡♡♡♡♡♡♡♡ \n",
      "m ♡♡♡♡♡♡♡♡♡♡♡♡♡♡♡♡♡♡♡♡ \n",
      "just♡♡♡♡♡♡♡♡♡♡♡♡♡♡♡♡ \n",
      " not f♡♡♡♡♡♡♡♡♡♡♡♡♡ \n",
      "or me. I♡♡♡♡♡♡♡♡♡♡ \n",
      " need to f♡♡♡♡♡♡ \n",
      "ind myself ♡♡♡♡ \n",
      "and I don't ♡ \n",
      "want to hol♡♡♡ \n",
      "d you back♡♡♡♡♡ \n",
      ". Maybe w♡♡♡♡♡♡♡ \n",
      "e have ch♡♡♡♡♡♡♡ \n",
      "emistry. I♡♡♡♡♡ \n",
      "’m afraid that I ♡ \n",
      "may be making th♡♡♡ \n",
      "e biggest mista♡♡♡♡♡ \n",
      "ke of my life,♡♡♡♡♡♡♡ \n",
      " but I just do♡♡♡♡♡♡♡ \n",
      "n’t feel that w♡♡♡♡♡\n",
      "\n",
      "\n"
     ]
    }
   ],
   "source": [
    "print(output)"
   ]
  },
  {
   "cell_type": "code",
   "execution_count": 117,
   "metadata": {},
   "outputs": [],
   "source": [
    "templater = \"\"\"\n",
    "$$$$$$$$$$$$$$$$$$$$$$$$$$$\n",
    "$$$$$$$$$$$$$$$$$$$$$$$$$$$\n",
    "$$$$$$$$$$$$$$$______$$$$$$\n",
    "$$$$______$$___________$$$$\n",
    "$$$_____________________$$$\n",
    "$$______________________$$$\n",
    "$$$_____________________$$$\n",
    "$$$____________________$$$$\n",
    "$$$$$_________________$$$$$\n",
    "$$$$$$$______________$$$$$$\n",
    "$$$$$$$$____________$$$$$$$\n",
    "$$$$$$$$$_________$$$$$$$$$\n",
    "$$$$$$$$$_______$$$$$$$$$$$\n",
    "$$$$$$$$$____$$$$$$$$$$$$$$\n",
    "$$$$$$$$___$$$$$$$$$$$$$$$$\n",
    "$$$$$$$_$$$$$$$$$$$$$$$$$$$\n",
    "$$$$$$$$$$$$$$$$$$$$$$$$$$$\n",
    "$$$$$$$$$$$$$$$$$$$$$$$$$$$\n",
    "\"\"\""
   ]
  },
  {
   "cell_type": "code",
   "execution_count": 118,
   "metadata": {},
   "outputs": [],
   "source": [
    "current_index = 0\n",
    "output = \"\"\n",
    "for ch in templater:\n",
    "    if ch == '$':\n",
    "        output += \"♡\"\n",
    "    elif ch == '_':\n",
    "        output += new_para[current_index]\n",
    "        current_index += 1\n",
    "    else:\n",
    "        output += ch"
   ]
  },
  {
   "cell_type": "code",
   "execution_count": 119,
   "metadata": {},
   "outputs": [
    {
     "name": "stdout",
     "output_type": "stream",
     "text": [
      "\n",
      "♡♡♡♡♡♡♡♡♡♡♡♡♡♡♡♡♡♡♡♡♡♡♡♡♡♡♡\n",
      "♡♡♡♡♡♡♡♡♡♡♡♡♡♡♡♡♡♡♡♡♡♡♡♡♡♡♡\n",
      "♡♡♡♡♡♡♡♡♡♡♡♡♡♡♡I’m so♡♡♡♡♡♡\n",
      "♡♡♡♡ sorry♡♡, I’m just ♡♡♡♡\n",
      "♡♡♡not for me. I need to♡♡♡\n",
      "♡♡ find myself and I don♡♡♡\n",
      "♡♡♡'t want to hold you b♡♡♡\n",
      "♡♡♡ack. Maybe we have c♡♡♡♡\n",
      "♡♡♡♡♡hemistry. I’m afr♡♡♡♡♡\n",
      "♡♡♡♡♡♡♡aid that I may♡♡♡♡♡♡\n",
      "♡♡♡♡♡♡♡♡ be making t♡♡♡♡♡♡♡\n",
      "♡♡♡♡♡♡♡♡♡he bigges♡♡♡♡♡♡♡♡♡\n",
      "♡♡♡♡♡♡♡♡♡t mista♡♡♡♡♡♡♡♡♡♡♡\n",
      "♡♡♡♡♡♡♡♡♡ke o♡♡♡♡♡♡♡♡♡♡♡♡♡♡\n",
      "♡♡♡♡♡♡♡♡f m♡♡♡♡♡♡♡♡♡♡♡♡♡♡♡♡\n",
      "♡♡♡♡♡♡♡y♡♡♡♡♡♡♡♡♡♡♡♡♡♡♡♡♡♡♡\n",
      "♡♡♡♡♡♡♡♡♡♡♡♡♡♡♡♡♡♡♡♡♡♡♡♡♡♡♡\n",
      "♡♡♡♡♡♡♡♡♡♡♡♡♡♡♡♡♡♡♡♡♡♡♡♡♡♡♡\n",
      "\n"
     ]
    }
   ],
   "source": [
    "print(output)"
   ]
  },
  {
   "cell_type": "code",
   "execution_count": null,
   "metadata": {},
   "outputs": [],
   "source": []
  }
 ],
 "metadata": {
  "kernelspec": {
   "display_name": "Python 3",
   "language": "python",
   "name": "python3"
  },
  "language_info": {
   "codemirror_mode": {
    "name": "ipython",
    "version": 3
   },
   "file_extension": ".py",
   "mimetype": "text/x-python",
   "name": "python",
   "nbconvert_exporter": "python",
   "pygments_lexer": "ipython3",
   "version": "3.7.1"
  }
 },
 "nbformat": 4,
 "nbformat_minor": 2
}
