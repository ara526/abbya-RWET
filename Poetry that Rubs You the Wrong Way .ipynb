{
 "cells": [
  {
   "cell_type": "markdown",
   "metadata": {},
   "source": [
    "# Poetry that Rubs You the Wrong Way"
   ]
  },
  {
   "cell_type": "markdown",
   "metadata": {},
   "source": [
    "By Abby, based on *A House of Dust* by Alison Knowles and James Tenney"
   ]
  },
  {
   "cell_type": "code",
   "execution_count": 1,
   "metadata": {},
   "outputs": [],
   "source": [
    "import random"
   ]
  },
  {
   "cell_type": "code",
   "execution_count": 2,
   "metadata": {},
   "outputs": [],
   "source": [
    "materials = [\n",
    "    'poop',\n",
    "    'vomit',\n",
    "    'leeches',\n",
    "    'wet socks',\n",
    "    'saliva',\n",
    "    'maggots',\n",
    "    'mud',\n",
    "    'diapers',\n",
    "    'hairballs',\n",
    "    'trash',\n",
    "    'used face masks',\n",
    "    'moldy cheese',\n",
    "    'fingernails',\n",
    "    'toenails',\n",
    "    'dead foot skin',\n",
    "    'butt sweat',\n",
    "    'sour milk'\n",
    "]"
   ]
  },
  {
   "cell_type": "code",
   "execution_count": 3,
   "metadata": {},
   "outputs": [],
   "source": [
    "locations = [\n",
    "    'Orlando, Florida',\n",
    "    'in the bathroom at six flags',\n",
    "    'in the Fyre Festival',\n",
    "    'in area 51',\n",
    "    'in the bermuda triangle',\n",
    "    'in the DMV',\n",
    "    'in Chuck E. Cheese',\n",
    "    'in the subway',\n",
    "    'inside a locked porta potty',\n",
    "    'across the street from coachella',\n",
    "    'by a prison',\n",
    "    'by the house used to film The Conjuring',\n",
    "    'in line to get food at Disneyland',\n",
    "    'at the premier of Twilight: New Moon',\n",
    "    'at the premier of The Emoji Movie'\n",
    "    'the birthday party of Stormi'\n",
    "]"
   ]
  },
  {
   "cell_type": "code",
   "execution_count": 4,
   "metadata": {},
   "outputs": [],
   "source": [
    "inhabitants = [\n",
    "    'trump supporters',\n",
    "    'old people',\n",
    "    'crying babies',\n",
    "    'escaped fugitives',\n",
    "    'beliebers',\n",
    "    'truck drivers',\n",
    "    'people who clap when the plane lands',\n",
    "    'conspiracy theorists',\n",
    "    'rednecks',\n",
    "    'people with a foot fetish',\n",
    "    'people who enjoy eating raw onions like an apple',\n",
    "    'people who write Shawn Mendes fanfiction',\n",
    "    'irritating in-laws',\n",
    "    'spoiled rich kids who think Jake Paul is cool',\n",
    "    'Kids who stan the Paul brothers',\n",
    "    'the kardashians',\n",
    "    'the kids who bullied you in middle school',\n",
    "    'adult Dora fans'\n",
    "]"
   ]
  },
  {
   "cell_type": "code",
   "execution_count": 5,
   "metadata": {},
   "outputs": [],
   "source": [
    "objects = [\n",
    "    'a used condom',\n",
    "    'an old sandwich',\n",
    "    'a cracked iphone 4',\n",
    "    'a Tomagotchi',\n",
    "    'gucci flip flops',\n",
    "    'Trump self tanner'\n",
    "]"
   ]
  },
  {
   "cell_type": "code",
   "execution_count": 6,
   "metadata": {},
   "outputs": [
    {
     "name": "stdout",
     "output_type": "stream",
     "text": [
      "\n",
      "A house of moldy cheese\n",
      "     in Chuck E. Cheese\n",
      "         using a cracked iphone 4\n",
      "          inhabited by Kids who stan the Paul brothers\n",
      "\n",
      "A house of toenails\n",
      "     inside a locked porta potty\n",
      "         using gucci flip flops\n",
      "          inhabited by truck drivers\n",
      "\n",
      "A house of used face masks\n",
      "     in the Fyre Festival\n",
      "         using an old sandwich\n",
      "          inhabited by truck drivers\n",
      "\n",
      "A house of dead foot skin\n",
      "     by a prison\n",
      "         using an old sandwich\n",
      "          inhabited by the kardashians\n",
      "\n",
      "A house of toenails\n",
      "     across the street from coachella\n",
      "         using an old sandwich\n",
      "          inhabited by Kids who stan the Paul brothers\n",
      "\n",
      "A house of moldy cheese\n",
      "     in line to get food at Disneyland\n",
      "         using Trump self tanner\n",
      "          inhabited by spoiled rich kids who think Jake Paul is cool\n",
      "\n",
      "A house of dead foot skin\n",
      "     across the street from coachella\n",
      "         using a cracked iphone 4\n",
      "          inhabited by trump supporters\n"
     ]
    }
   ],
   "source": [
    "stanza_count = 7\n",
    "for i in range (stanza_count):\n",
    "    print()\n",
    "    print(\"A house of \" + random.choice(materials))\n",
    "    print(\"     \" + random.choice(locations))\n",
    "    print(\"         using \" + random.choice(objects))\n",
    "    print(\"          inhabited by \" + random.choice(inhabitants))"
   ]
  },
  {
   "cell_type": "code",
   "execution_count": null,
   "metadata": {},
   "outputs": [],
   "source": []
  }
 ],
 "metadata": {
  "kernelspec": {
   "display_name": "Python 3",
   "language": "python",
   "name": "python3"
  },
  "language_info": {
   "codemirror_mode": {
    "name": "ipython",
    "version": 3
   },
   "file_extension": ".py",
   "mimetype": "text/x-python",
   "name": "python",
   "nbconvert_exporter": "python",
   "pygments_lexer": "ipython3",
   "version": "3.7.1"
  }
 },
 "nbformat": 4,
 "nbformat_minor": 2
}
